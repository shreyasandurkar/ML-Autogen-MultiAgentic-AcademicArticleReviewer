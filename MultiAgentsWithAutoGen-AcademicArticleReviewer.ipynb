{
 "cells": [
  {
   "cell_type": "code",
   "execution_count": null,
   "id": "d6cdc652-e7b4-4c2c-b7a5-54a88e81d626",
   "metadata": {},
   "outputs": [],
   "source": [
    "# How to use locally downloaded LLM models like Llama\n",
    "# Source - https://medium.com/@ai-for-devs.com/how-to-use-autogen-with-any-open-source-llm-for-free-5607f2bad2f4\n",
    "# Source - https://microsoft.github.io/autogen/0.2/docs/topics/non-openai-models/local-ollama/\n",
    "# Source - https://learn.deeplearning.ai/courses/ai-agentic-design-patterns-with-autogen/lesson/4/reflection-and-blogpost-writing"
   ]
  },
  {
   "cell_type": "code",
   "execution_count": null,
   "id": "4a8bb2ac",
   "metadata": {},
   "outputs": [],
   "source": [
    "# This notebook shows how to use AutoGen with locally downloaded LLM models like Llama.\n",
    "# It requires installing the Ollama server and running it locally.\n",
    "# You can install Ollama by following the instructions at https://ollama.com/docs/installation.\n",
    "# Once you have Ollama installed, you can run the following command to pull the Llama model:\n",
    "# ollama pull llama3:27b\n",
    "\n",
    "# Make sure to install autogen library first:\n",
    "# pip install autogen"
   ]
  },
  {
   "cell_type": "code",
   "execution_count": null,
   "id": "8cc6e83b-d171-4b45-b38f-03abc5d7bb80",
   "metadata": {},
   "outputs": [],
   "source": [
    "# TO RUN MODELS FROM THE HUGGINGFACE MODEL HUB (restricted by free token limit)\n",
    "# llm_config = {\"model\": \"gpt-3.5-turbo\"}\n",
    "\n",
    "\n",
    "# TO RUN LOCALLY DOWNLOADED LLM MODELS LIKE LLAMA\n",
    "llm_config = {\n",
    "\t\t\t\"config_list\": [\n",
    "\t\t\t\t{\n",
    "\t\t\t\t\t\"model\": \"gemma3:27b\",\n",
    "\t\t\t\t\t\"api_type\": \"ollama\",\n",
    "\t\t\t\t\t\"stream\": False,\n",
    "\t\t\t\t\t\"client_host\": \"http://127.0.0.1:11434\"\n",
    "\t\t\t\t}\n",
    "\t\t\t]\n",
    "}"
   ]
  },
  {
   "cell_type": "code",
   "execution_count": null,
   "id": "da5417d2-11ce-4507-b4ed-ca3cb76ece24",
   "metadata": {},
   "outputs": [],
   "source": [
    "task = \"\"\"\n",
    "        Without rewriting the sentences entirely, finetune the given academic article by making corrections to the existing sentences. \n",
    "        Use editing rules such as sentence variation, pacing, paragraph variation, chapter variation, dialog tags, adverbs in dialogs, show vs tell, character development, plot development, \n",
    "        tense consistency, passive indicators, cliches, redundancies, unnecessary words, POV shifts, power words, sentence starters, sentence structure, \n",
    "        dale chall readability, flesch-kincaid, linsear write, spache readability, lexical diversity, sentence complexity, sentence length, and more. Retain the original dialogs as is - do not remove any of the original dialogs. Retain the original plot and the style of writing.\n",
    "        Make minimal changes to the original content and return the modified content.\n",
    "\n",
    "        This is the original content:\n",
    "        \"The sun was setting over the horizon, casting a golden glow across the fields. The wind whispered through the trees, carrying with it the scent of blooming flowers. In the distance, a lone figure could be seen walking along the path, their silhouette framed by the fading light. As they approached, it became clear that they were not alone; a small dog trotted happily beside them, its tail wagging in delight.\"\n",
    "\n",
    "       \"\"\""
   ]
  },
  {
   "cell_type": "code",
   "execution_count": null,
   "id": "ed1d57fa-9112-4988-96ff-2e8e9f08abef",
   "metadata": {},
   "outputs": [],
   "source": [
    "import autogen\n",
    "\n",
    "# Create a professional writer assistant agent\n",
    "writer = autogen.AssistantAgent(\n",
    "    name=\"Writer\",\n",
    "    system_message=\"\"\"You are an expert writer of academic articles. You are especially known for academically rich and engaging content.\n",
    "        You must polish your writing based on the feedback you receive and give a refined version. Only return your final work without additional comments.\"\"\",\n",
    "    human_input_mode=\"NEVER\",\n",
    "    llm_config=llm_config,\n",
    ")"
   ]
  },
  {
   "cell_type": "code",
   "execution_count": null,
   "id": "2cbccd19-8149-43b6-9dd1-179b1b7599d5",
   "metadata": {},
   "outputs": [],
   "source": [
    "# Add reflection by creating an Editor agent \n",
    "\n",
    "editor = autogen.AssistantAgent(\n",
    "    name=\"Editor\",\n",
    "    is_termination_msg=lambda x: x.get(\"content\", \"\").find(\"TERMINATE\") >= 0,\n",
    "    llm_config=llm_config,\n",
    "    human_input_mode=\"NEVER\",\n",
    "    system_message=\"\"\"You are an expert at English grammar and an expert editor of academic articles. You are an expert at analyzing and editing the technical aspects of the sentences in academic articles. \n",
    "                You analyze academic articles based on various rules including \"\n",
    "                sentence variation, pacing, paragraph variation, chapter variation, dialog tags, adverbs in dialogs, show vs tell, character development, plot development, \n",
    "                tense consistency, passive indicators, cliches, redundancies, unnecessary words, POV shifts, power words, sentence starters, sentence structure, \n",
    "                dale chall readability, flesch-kincaid, linsear write, spache readability, lexical diversity, sentence complexity, sentence length, word length, and more.\n",
    "                You review the work of the writer and provide constructive \n",
    "                feedback to help improve the quality of the content and make the content more interesting and professional.  \n",
    "                Without actually rewriting the original sentences entirely, you give suggestions to finetune those sentences to make them more engaging and interesting. \n",
    "                You polish the writer's original work without totally rewriting the original sentences, into a more engaging and interesting article.\"\"\",\n",
    ")"
   ]
  },
  {
   "cell_type": "code",
   "execution_count": null,
   "id": "04e02b28-94bd-42b3-88e4-94b8c22aaea1",
   "metadata": {},
   "outputs": [],
   "source": [
    "\n",
    "# Add nested chat by creating a Legal Reviewer agent and an Ethics Reviewer agent\n",
    "\n",
    "legal_reviewer = autogen.AssistantAgent(\n",
    "    name=\"Legal Reviewer\",\n",
    "    llm_config=llm_config,\n",
    "    human_input_mode=\"NEVER\",\n",
    "    system_message='''You are a legal reviewer, known for \n",
    "        your ability to ensure that content in academic articles is not pirated \n",
    "        and is free from any potential copyright infringement or plagiarism. \n",
    "        Make sure your suggestion is concise (within 3 bullet points), \n",
    "        concrete and to the point. \n",
    "        Begin the review by stating your role.''',\n",
    ")\n",
    "\n",
    "ethics_reviewer = autogen.AssistantAgent(\n",
    "    name=\"Ethics Reviewer\",\n",
    "    llm_config=llm_config,\n",
    "    human_input_mode=\"NEVER\",\n",
    "    system_message=\"You are an ethics reviewer, known for \"\n",
    "        \"your ability to ensure that content is ethically sound \"\n",
    "        \"and free from any potential ethical issues. \" \n",
    "        \"Make sure your suggestion is concise (within 3 bullet points), \"\n",
    "        \"concrete and to the point. \"\n",
    "        \"Begin the review by stating your role. \",\n",
    ")"
   ]
  },
  {
   "cell_type": "code",
   "execution_count": null,
   "id": "94e55bca-158c-4d21-8dec-f9d607cfa063",
   "metadata": {},
   "outputs": [],
   "source": [
    "# Add a meta reviewer to aggregate the comments of the other reviewers\n",
    "\n",
    "meta_reviewer = autogen.AssistantAgent(\n",
    "    name=\"Meta Reviewer\",\n",
    "    llm_config=llm_config,\n",
    "    human_input_mode=\"NEVER\",\n",
    "    system_message=\"You are a meta reviewer, you aggregate and review \"\n",
    "    \"the work of other reviewers and give a final suggestion on the content.\",\n",
    ")"
   ]
  },
  {
   "cell_type": "code",
   "execution_count": null,
   "id": "c4008b04-ddfc-4afb-bcf1-ce817383987d",
   "metadata": {},
   "outputs": [],
   "source": [
    "# Orchestrate the nested chats\n",
    "\n",
    "def reflection_message(recipient, messages, sender, config):\n",
    "    return f'''Review the following content. \n",
    "            \\n\\n {recipient.chat_messages_for_summary(sender)[-1]['content']}'''\n",
    "\n",
    "review_chat_queue = [\n",
    "    {\n",
    "    \"recipient\": legal_reviewer,\n",
    "    \"message\": reflection_message, \n",
    "    \"summary_method\": \"reflection_with_llm\",\n",
    "    \"summary_args\": {\"summary_prompt\" : \n",
    "    \"Return review into as JSON object only:\"\n",
    "    \"{'Reviewer': '', 'Review': ''}.\",},\n",
    "    \"max_turns\": 1},\n",
    "\n",
    "    {\"recipient\": ethics_reviewer, \"message\": reflection_message, \n",
    "     \"summary_method\": \"reflection_with_llm\",\n",
    "     \"summary_args\": {\"summary_prompt\" : \n",
    "        \"Return review into as JSON object only:\"\n",
    "        \"{'reviewer': '', 'review': ''}\",},\n",
    "     \"max_turns\": 1},\n",
    "     \n",
    "    {\"recipient\": meta_reviewer, \n",
    "    \"message\": \"Aggregrate feedback from all reviewers and give final suggestions on the writing.\", \n",
    "    \"max_turns\": 1},\n",
    "]\n"
   ]
  },
  {
   "cell_type": "code",
   "execution_count": null,
   "id": "379c28b4-f5af-47a2-a35e-ff01e85bd885",
   "metadata": {},
   "outputs": [],
   "source": [
    "editor.register_nested_chats(\n",
    "    review_chat_queue,\n",
    "    trigger=writer,\n",
    ")"
   ]
  },
  {
   "cell_type": "code",
   "execution_count": null,
   "id": "c29d8bc2-f701-404f-bbff-24d36ff347d8",
   "metadata": {},
   "outputs": [],
   "source": [
    "res = editor.initiate_chat(\n",
    "    recipient=writer,\n",
    "    message=task,\n",
    "    max_turns=3,\n",
    "    summary_method=\"last_msg\"\n",
    ")\n",
    "\n",
    "print (res.summary)"
   ]
  }
 ],
 "metadata": {
  "kernelspec": {
   "display_name": "Python 3",
   "language": "python",
   "name": "python3"
  },
  "language_info": {
   "codemirror_mode": {
    "name": "ipython",
    "version": 3
   },
   "file_extension": ".py",
   "mimetype": "text/x-python",
   "name": "python",
   "nbconvert_exporter": "python",
   "pygments_lexer": "ipython3",
   "version": "3.13.1"
  }
 },
 "nbformat": 4,
 "nbformat_minor": 5
}
